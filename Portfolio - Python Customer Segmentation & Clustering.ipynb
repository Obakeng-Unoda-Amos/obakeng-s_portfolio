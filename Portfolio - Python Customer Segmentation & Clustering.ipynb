{
 "cells": [
  {
   "cell_type": "markdown",
   "id": "0849cd54",
   "metadata": {},
   "source": [
    "# Shopping Customer Segmentation (Unsupervised Machine Learning)\n",
    "\n",
    "### Problem Statement\n",
    "* Understand the target customers for the marketing team to plan a strategy\n",
    "\n",
    "### Context\n",
    "* Identify the most important shopping groups based on income, age, and the mall shopping score\n",
    "* Show ideal number of groups with labels for each \n",
    "\n",
    "### Objective Market Segmentation\n",
    "* Divide the mall target market into approachable groups. Create subsets of a market based on demographics behavioral creteria to better understand the target for market activities. \n",
    "\n",
    "### Approach:\n",
    "* Perform Exploratory Data Analysis (EDA)\n",
    "* Use K-Means Clustering Algorithm to create segments\n",
    "* Use summary statistics on the clusters\n",
    "* Visualize"
   ]
  },
  {
   "cell_type": "code",
   "execution_count": 1,
   "id": "90ace093",
   "metadata": {},
   "outputs": [],
   "source": [
    "# import requisite libraries\n",
    "\n",
    "import os # allows us to interact with the operating system\n",
    "import pandas as pd\n",
    "import numpy as np\n",
    "import seaborn as sns\n",
    "import matplotlib.pyplot as plt\n",
    "import warnings\n",
    "warnings.filterwarnings('ignore')\n",
    "from sklearn.cluster import KMeans\n",
    "\n",
    "%matplotlib inline"
   ]
  },
  {
   "cell_type": "code",
   "execution_count": 2,
   "id": "5174dcc3",
   "metadata": {},
   "outputs": [],
   "source": [
    "df = pd.read_csv('Mall_Customers.csv')"
   ]
  },
  {
   "cell_type": "code",
   "execution_count": 3,
   "id": "3e617d8a",
   "metadata": {},
   "outputs": [
    {
     "data": {
      "text/html": [
       "<div>\n",
       "<style scoped>\n",
       "    .dataframe tbody tr th:only-of-type {\n",
       "        vertical-align: middle;\n",
       "    }\n",
       "\n",
       "    .dataframe tbody tr th {\n",
       "        vertical-align: top;\n",
       "    }\n",
       "\n",
       "    .dataframe thead th {\n",
       "        text-align: right;\n",
       "    }\n",
       "</style>\n",
       "<table border=\"1\" class=\"dataframe\">\n",
       "  <thead>\n",
       "    <tr style=\"text-align: right;\">\n",
       "      <th></th>\n",
       "      <th>CustomerID</th>\n",
       "      <th>Gender</th>\n",
       "      <th>Age</th>\n",
       "      <th>Annual Income (k$)</th>\n",
       "      <th>Spending Score (1-100)</th>\n",
       "    </tr>\n",
       "  </thead>\n",
       "  <tbody>\n",
       "    <tr>\n",
       "      <th>0</th>\n",
       "      <td>1</td>\n",
       "      <td>Male</td>\n",
       "      <td>19</td>\n",
       "      <td>15</td>\n",
       "      <td>39</td>\n",
       "    </tr>\n",
       "    <tr>\n",
       "      <th>1</th>\n",
       "      <td>2</td>\n",
       "      <td>Male</td>\n",
       "      <td>21</td>\n",
       "      <td>15</td>\n",
       "      <td>81</td>\n",
       "    </tr>\n",
       "    <tr>\n",
       "      <th>2</th>\n",
       "      <td>3</td>\n",
       "      <td>Female</td>\n",
       "      <td>20</td>\n",
       "      <td>16</td>\n",
       "      <td>6</td>\n",
       "    </tr>\n",
       "    <tr>\n",
       "      <th>3</th>\n",
       "      <td>4</td>\n",
       "      <td>Female</td>\n",
       "      <td>23</td>\n",
       "      <td>16</td>\n",
       "      <td>77</td>\n",
       "    </tr>\n",
       "    <tr>\n",
       "      <th>4</th>\n",
       "      <td>5</td>\n",
       "      <td>Female</td>\n",
       "      <td>31</td>\n",
       "      <td>17</td>\n",
       "      <td>40</td>\n",
       "    </tr>\n",
       "  </tbody>\n",
       "</table>\n",
       "</div>"
      ],
      "text/plain": [
       "   CustomerID  Gender  Age  Annual Income (k$)  Spending Score (1-100)\n",
       "0           1    Male   19                  15                      39\n",
       "1           2    Male   21                  15                      81\n",
       "2           3  Female   20                  16                       6\n",
       "3           4  Female   23                  16                      77\n",
       "4           5  Female   31                  17                      40"
      ]
     },
     "execution_count": 3,
     "metadata": {},
     "output_type": "execute_result"
    }
   ],
   "source": [
    "df.head()"
   ]
  },
  {
   "cell_type": "markdown",
   "id": "8808b479",
   "metadata": {},
   "source": [
    "# Univariate Analysis"
   ]
  },
  {
   "cell_type": "code",
   "execution_count": 4,
   "id": "0d0c236d",
   "metadata": {},
   "outputs": [
    {
     "data": {
      "text/html": [
       "<div>\n",
       "<style scoped>\n",
       "    .dataframe tbody tr th:only-of-type {\n",
       "        vertical-align: middle;\n",
       "    }\n",
       "\n",
       "    .dataframe tbody tr th {\n",
       "        vertical-align: top;\n",
       "    }\n",
       "\n",
       "    .dataframe thead th {\n",
       "        text-align: right;\n",
       "    }\n",
       "</style>\n",
       "<table border=\"1\" class=\"dataframe\">\n",
       "  <thead>\n",
       "    <tr style=\"text-align: right;\">\n",
       "      <th></th>\n",
       "      <th>CustomerID</th>\n",
       "      <th>Age</th>\n",
       "      <th>Annual Income (k$)</th>\n",
       "      <th>Spending Score (1-100)</th>\n",
       "    </tr>\n",
       "  </thead>\n",
       "  <tbody>\n",
       "    <tr>\n",
       "      <th>count</th>\n",
       "      <td>200.000000</td>\n",
       "      <td>200.000000</td>\n",
       "      <td>200.000000</td>\n",
       "      <td>200.000000</td>\n",
       "    </tr>\n",
       "    <tr>\n",
       "      <th>mean</th>\n",
       "      <td>100.500000</td>\n",
       "      <td>38.850000</td>\n",
       "      <td>60.560000</td>\n",
       "      <td>50.200000</td>\n",
       "    </tr>\n",
       "    <tr>\n",
       "      <th>std</th>\n",
       "      <td>57.879185</td>\n",
       "      <td>13.969007</td>\n",
       "      <td>26.264721</td>\n",
       "      <td>25.823522</td>\n",
       "    </tr>\n",
       "    <tr>\n",
       "      <th>min</th>\n",
       "      <td>1.000000</td>\n",
       "      <td>18.000000</td>\n",
       "      <td>15.000000</td>\n",
       "      <td>1.000000</td>\n",
       "    </tr>\n",
       "    <tr>\n",
       "      <th>25%</th>\n",
       "      <td>50.750000</td>\n",
       "      <td>28.750000</td>\n",
       "      <td>41.500000</td>\n",
       "      <td>34.750000</td>\n",
       "    </tr>\n",
       "    <tr>\n",
       "      <th>50%</th>\n",
       "      <td>100.500000</td>\n",
       "      <td>36.000000</td>\n",
       "      <td>61.500000</td>\n",
       "      <td>50.000000</td>\n",
       "    </tr>\n",
       "    <tr>\n",
       "      <th>75%</th>\n",
       "      <td>150.250000</td>\n",
       "      <td>49.000000</td>\n",
       "      <td>78.000000</td>\n",
       "      <td>73.000000</td>\n",
       "    </tr>\n",
       "    <tr>\n",
       "      <th>max</th>\n",
       "      <td>200.000000</td>\n",
       "      <td>70.000000</td>\n",
       "      <td>137.000000</td>\n",
       "      <td>99.000000</td>\n",
       "    </tr>\n",
       "  </tbody>\n",
       "</table>\n",
       "</div>"
      ],
      "text/plain": [
       "       CustomerID         Age  Annual Income (k$)  Spending Score (1-100)\n",
       "count  200.000000  200.000000          200.000000              200.000000\n",
       "mean   100.500000   38.850000           60.560000               50.200000\n",
       "std     57.879185   13.969007           26.264721               25.823522\n",
       "min      1.000000   18.000000           15.000000                1.000000\n",
       "25%     50.750000   28.750000           41.500000               34.750000\n",
       "50%    100.500000   36.000000           61.500000               50.000000\n",
       "75%    150.250000   49.000000           78.000000               73.000000\n",
       "max    200.000000   70.000000          137.000000               99.000000"
      ]
     },
     "execution_count": 4,
     "metadata": {},
     "output_type": "execute_result"
    }
   ],
   "source": [
    "df.describe()"
   ]
  },
  {
   "cell_type": "code",
   "execution_count": 5,
   "id": "894d3f49",
   "metadata": {},
   "outputs": [
    {
     "data": {
      "text/plain": [
       "<AxesSubplot:xlabel='Annual Income (k$)', ylabel='Density'>"
      ]
     },
     "execution_count": 5,
     "metadata": {},
     "output_type": "execute_result"
    },
    {
     "data": {
      "image/png": "[encoded data removed]",
      "text/plain": [
       "<Figure size 432x288 with 1 Axes>"
      ]
     },
     "metadata": {
      "needs_background": "light"
     },
     "output_type": "display_data"
    }
   ],
   "source": [
    "#df['Annual Income (k$)'].plot(kind = 'hist', figsize=(14,6))\n",
    "\n",
    "sns.distplot(df['Annual Income (k$)']) #using seaborn"
   ]
  },
  {
   "cell_type": "code",
   "execution_count": 6,
   "id": "169a943f",
   "metadata": {},
   "outputs": [
    {
     "data": {
      "text/plain": [
       "Index(['CustomerID', 'Gender', 'Age', 'Annual Income (k$)',\n",
       "       'Spending Score (1-100)'],\n",
       "      dtype='object')"
      ]
     },
     "execution_count": 6,
     "metadata": {},
     "output_type": "execute_result"
    }
   ],
   "source": [
    "df.columns"
   ]
  },
  {
   "cell_type": "code",
   "execution_count": 7,
   "id": "af6f38a7",
   "metadata": {
    "scrolled": false
   },
   "outputs": [
    {
     "data": {
      "image/png": "[encoded data removed]",
      "text/plain": [
       "<Figure size 432x288 with 1 Axes>"
      ]
     },
     "metadata": {
      "needs_background": "light"
     },
     "output_type": "display_data"
    },
    {
     "data": {
      "image/png": "[encoded data removed]",
      "text/plain": [
       "<Figure size 432x288 with 1 Axes>"
      ]
     },
     "metadata": {
      "needs_background": "light"
     },
     "output_type": "display_data"
    },
    {
     "data": {
      "image/png": "[encoded data removed]",
      "text/plain": [
       "<Figure size 432x288 with 1 Axes>"
      ]
     },
     "metadata": {
      "needs_background": "light"
     },
     "output_type": "display_data"
    }
   ],
   "source": [
    "columns = ['Age', 'Annual Income (k$)','Spending Score (1-100)']\n",
    "\n",
    "for x in columns:\n",
    "    plt.figure()\n",
    "    sns.distplot(df[x])"
   ]
  },
  {
   "cell_type": "code",
   "execution_count": 8,
   "id": "6a31f1b0",
   "metadata": {},
   "outputs": [
    {
     "data": {
      "image/png": "[encoded data removed]",
      "text/plain": [
       "<Figure size 432x288 with 1 Axes>"
      ]
     },
     "metadata": {
      "needs_background": "light"
     },
     "output_type": "display_data"
    },
    {
     "data": {
      "image/png": "[encoded data removed]",
      "text/plain": [
       "<Figure size 432x288 with 1 Axes>"
      ]
     },
     "metadata": {
      "needs_background": "light"
     },
     "output_type": "display_data"
    },
    {
     "data": {
      "image/png": "[encoded data removed]",
      "text/plain": [
       "<Figure size 432x288 with 1 Axes>"
      ]
     },
     "metadata": {
      "needs_background": "light"
     },
     "output_type": "display_data"
    }
   ],
   "source": [
    "# separate each column by Gender using kdeplot\n",
    "\n",
    "for x in columns:\n",
    "    plt.figure()\n",
    "    sns.kdeplot(df[x], shade = True, hue = df['Gender'])"
   ]
  },
  {
   "cell_type": "code",
   "execution_count": 9,
   "id": "2eaf0208",
   "metadata": {},
   "outputs": [
    {
     "data": {
      "image/png": "[encoded data removed]",
      "text/plain": [
       "<Figure size 432x288 with 1 Axes>"
      ]
     },
     "metadata": {
      "needs_background": "light"
     },
     "output_type": "display_data"
    },
    {
     "data": {
      "image/png": "[encoded data removed]",
      "text/plain": [
       "<Figure size 432x288 with 1 Axes>"
      ]
     },
     "metadata": {
      "needs_background": "light"
     },
     "output_type": "display_data"
    },
    {
     "data": {
      "image/png": "[encoded data removed]",
      "text/plain": [
       "<Figure size 432x288 with 1 Axes>"
      ]
     },
     "metadata": {
      "needs_background": "light"
     },
     "output_type": "display_data"
    }
   ],
   "source": [
    "# visualizing using a boxplot\n",
    "for x in columns:\n",
    "    plt.figure()\n",
    "    sns.boxplot(data = df, x = 'Gender', y = df[x])"
   ]
  },
  {
   "cell_type": "code",
   "execution_count": 10,
   "id": "260887a0",
   "metadata": {},
   "outputs": [
    {
     "data": {
      "text/plain": [
       "Female    0.56\n",
       "Male      0.44\n",
       "Name: Gender, dtype: float64"
      ]
     },
     "execution_count": 10,
     "metadata": {},
     "output_type": "execute_result"
    }
   ],
   "source": [
    "df['Gender'].value_counts(normalize = True)"
   ]
  },
  {
   "cell_type": "markdown",
   "id": "da778575",
   "metadata": {},
   "source": [
    "# Bivariate Analysis\n",
    "* 2 variables (usually a scatter plot - show the relationship between variables)"
   ]
  },
  {
   "cell_type": "code",
   "execution_count": 11,
   "id": "d29c058e",
   "metadata": {},
   "outputs": [],
   "source": [
    "# drop customerID (because it does not add any value to our data)\n",
    "\n",
    "df = df.drop('CustomerID', axis = 1)"
   ]
  },
  {
   "cell_type": "code",
   "execution_count": 12,
   "id": "938c5b26",
   "metadata": {},
   "outputs": [
    {
     "data": {
      "text/plain": [
       "<seaborn.axisgrid.PairGrid at 0x28ab1fd2f40>"
      ]
     },
     "execution_count": 12,
     "metadata": {},
     "output_type": "execute_result"
    },
    {
     "data": {
      "image/png": "[encoded data removed]",
      "text/plain": [
       "<Figure size 612.125x540 with 12 Axes>"
      ]
     },
     "metadata": {
      "needs_background": "light"
     },
     "output_type": "display_data"
    }
   ],
   "source": [
    "# pairplot (NB: not advisable as it provides too much and can be confusing)\n",
    "\n",
    "sns.pairplot(df, hue = 'Gender')"
   ]
  },
  {
   "cell_type": "code",
   "execution_count": 13,
   "id": "2f3a7798",
   "metadata": {},
   "outputs": [
    {
     "data": {
      "text/html": [
       "<div>\n",
       "<style scoped>\n",
       "    .dataframe tbody tr th:only-of-type {\n",
       "        vertical-align: middle;\n",
       "    }\n",
       "\n",
       "    .dataframe tbody tr th {\n",
       "        vertical-align: top;\n",
       "    }\n",
       "\n",
       "    .dataframe thead th {\n",
       "        text-align: right;\n",
       "    }\n",
       "</style>\n",
       "<table border=\"1\" class=\"dataframe\">\n",
       "  <thead>\n",
       "    <tr style=\"text-align: right;\">\n",
       "      <th></th>\n",
       "      <th>Age</th>\n",
       "      <th>Annual Income (k$)</th>\n",
       "      <th>Spending Score (1-100)</th>\n",
       "    </tr>\n",
       "    <tr>\n",
       "      <th>Gender</th>\n",
       "      <th></th>\n",
       "      <th></th>\n",
       "      <th></th>\n",
       "    </tr>\n",
       "  </thead>\n",
       "  <tbody>\n",
       "    <tr>\n",
       "      <th>Female</th>\n",
       "      <td>38.098214</td>\n",
       "      <td>59.250000</td>\n",
       "      <td>51.526786</td>\n",
       "    </tr>\n",
       "    <tr>\n",
       "      <th>Male</th>\n",
       "      <td>39.806818</td>\n",
       "      <td>62.227273</td>\n",
       "      <td>48.511364</td>\n",
       "    </tr>\n",
       "  </tbody>\n",
       "</table>\n",
       "</div>"
      ],
      "text/plain": [
       "              Age  Annual Income (k$)  Spending Score (1-100)\n",
       "Gender                                                       \n",
       "Female  38.098214           59.250000               51.526786\n",
       "Male    39.806818           62.227273               48.511364"
      ]
     },
     "execution_count": 13,
     "metadata": {},
     "output_type": "execute_result"
    }
   ],
   "source": [
    "# mean values based on Gender\n",
    "\n",
    "df.groupby(['Gender'])['Age', 'Annual Income (k$)',\n",
    "       'Spending Score (1-100)'].mean()"
   ]
  },
  {
   "cell_type": "code",
   "execution_count": 14,
   "id": "617c7986",
   "metadata": {},
   "outputs": [
    {
     "data": {
      "text/plain": [
       "<AxesSubplot:>"
      ]
     },
     "execution_count": 14,
     "metadata": {},
     "output_type": "execute_result"
    },
    {
     "data": {
      "image/png": "[encoded data removed]",
      "text/plain": [
       "<Figure size 432x288 with 2 Axes>"
      ]
     },
     "metadata": {
      "needs_background": "light"
     },
     "output_type": "display_data"
    }
   ],
   "source": [
    "# correlation| heatmap\n",
    "#print(df.corr())\n",
    "\n",
    "sns.heatmap(df.corr(), annot = True, cmap = 'coolwarm')"
   ]
  },
  {
   "cell_type": "markdown",
   "id": "f64efbaf",
   "metadata": {},
   "source": [
    "# Clustering - Univariate, Bivariate & Multivariate"
   ]
  },
  {
   "cell_type": "code",
   "execution_count": 15,
   "id": "acb855ec",
   "metadata": {},
   "outputs": [],
   "source": [
    "# you can specify number of clusters to use (n_clusters = 6)\n",
    "clustering1 = KMeans(n_clusters = 3)"
   ]
  },
  {
   "cell_type": "code",
   "execution_count": 16,
   "id": "ad4e41f3",
   "metadata": {},
   "outputs": [
    {
     "data": {
      "text/plain": [
       "KMeans(n_clusters=3)"
      ]
     },
     "execution_count": 16,
     "metadata": {},
     "output_type": "execute_result"
    }
   ],
   "source": [
    "clustering1.fit(df[['Annual Income (k$)']])"
   ]
  },
  {
   "cell_type": "code",
   "execution_count": 17,
   "id": "9edf72d3",
   "metadata": {},
   "outputs": [
    {
     "data": {
      "text/plain": [
       "array([1, 1, 1, 1, 1, 1, 1, 1, 1, 1, 1, 1, 1, 1, 1, 1, 1, 1, 1, 1, 1, 1,\n",
       "       1, 1, 1, 1, 1, 1, 1, 1, 1, 1, 1, 1, 1, 1, 1, 1, 1, 1, 1, 1, 1, 1,\n",
       "       1, 1, 1, 1, 1, 1, 1, 1, 1, 1, 1, 1, 1, 1, 1, 1, 1, 1, 1, 1, 1, 1,\n",
       "       1, 1, 1, 1, 1, 1, 1, 1, 2, 2, 2, 2, 2, 2, 2, 2, 2, 2, 2, 2, 2, 2,\n",
       "       2, 2, 2, 2, 2, 2, 2, 2, 2, 2, 2, 2, 2, 2, 2, 2, 2, 2, 2, 2, 2, 2,\n",
       "       2, 2, 2, 2, 2, 2, 2, 2, 2, 2, 2, 2, 2, 2, 2, 2, 2, 2, 2, 2, 2, 2,\n",
       "       2, 2, 2, 2, 2, 2, 2, 2, 2, 2, 2, 2, 2, 2, 2, 2, 2, 2, 2, 2, 2, 2,\n",
       "       2, 2, 2, 2, 2, 2, 2, 2, 2, 2, 0, 0, 0, 0, 0, 0, 0, 0, 0, 0, 0, 0,\n",
       "       0, 0, 0, 0, 0, 0, 0, 0, 0, 0, 0, 0, 0, 0, 0, 0, 0, 0, 0, 0, 0, 0,\n",
       "       0, 0])"
      ]
     },
     "execution_count": 17,
     "metadata": {},
     "output_type": "execute_result"
    }
   ],
   "source": [
    "# view all clustring labels\n",
    "clustering1.labels_"
   ]
  },
  {
   "cell_type": "code",
   "execution_count": 18,
   "id": "da159628",
   "metadata": {},
   "outputs": [
    {
     "data": {
      "text/html": [
       "<div>\n",
       "<style scoped>\n",
       "    .dataframe tbody tr th:only-of-type {\n",
       "        vertical-align: middle;\n",
       "    }\n",
       "\n",
       "    .dataframe tbody tr th {\n",
       "        vertical-align: top;\n",
       "    }\n",
       "\n",
       "    .dataframe thead th {\n",
       "        text-align: right;\n",
       "    }\n",
       "</style>\n",
       "<table border=\"1\" class=\"dataframe\">\n",
       "  <thead>\n",
       "    <tr style=\"text-align: right;\">\n",
       "      <th></th>\n",
       "      <th>Gender</th>\n",
       "      <th>Age</th>\n",
       "      <th>Annual Income (k$)</th>\n",
       "      <th>Spending Score (1-100)</th>\n",
       "      <th>income cluster</th>\n",
       "    </tr>\n",
       "  </thead>\n",
       "  <tbody>\n",
       "    <tr>\n",
       "      <th>0</th>\n",
       "      <td>Male</td>\n",
       "      <td>19</td>\n",
       "      <td>15</td>\n",
       "      <td>39</td>\n",
       "      <td>1</td>\n",
       "    </tr>\n",
       "    <tr>\n",
       "      <th>1</th>\n",
       "      <td>Male</td>\n",
       "      <td>21</td>\n",
       "      <td>15</td>\n",
       "      <td>81</td>\n",
       "      <td>1</td>\n",
       "    </tr>\n",
       "    <tr>\n",
       "      <th>2</th>\n",
       "      <td>Female</td>\n",
       "      <td>20</td>\n",
       "      <td>16</td>\n",
       "      <td>6</td>\n",
       "      <td>1</td>\n",
       "    </tr>\n",
       "    <tr>\n",
       "      <th>3</th>\n",
       "      <td>Female</td>\n",
       "      <td>23</td>\n",
       "      <td>16</td>\n",
       "      <td>77</td>\n",
       "      <td>1</td>\n",
       "    </tr>\n",
       "    <tr>\n",
       "      <th>4</th>\n",
       "      <td>Female</td>\n",
       "      <td>31</td>\n",
       "      <td>17</td>\n",
       "      <td>40</td>\n",
       "      <td>1</td>\n",
       "    </tr>\n",
       "  </tbody>\n",
       "</table>\n",
       "</div>"
      ],
      "text/plain": [
       "   Gender  Age  Annual Income (k$)  Spending Score (1-100)  income cluster\n",
       "0    Male   19                  15                      39               1\n",
       "1    Male   21                  15                      81               1\n",
       "2  Female   20                  16                       6               1\n",
       "3  Female   23                  16                      77               1\n",
       "4  Female   31                  17                      40               1"
      ]
     },
     "execution_count": 18,
     "metadata": {},
     "output_type": "execute_result"
    }
   ],
   "source": [
    "# compare to initial data\n",
    "df['income cluster'] = clustering1.labels_\n",
    "df.head()"
   ]
  },
  {
   "cell_type": "code",
   "execution_count": 19,
   "id": "6dcf849f",
   "metadata": {},
   "outputs": [
    {
     "data": {
      "text/plain": [
       "2    90\n",
       "1    74\n",
       "0    36\n",
       "Name: income cluster, dtype: int64"
      ]
     },
     "execution_count": 19,
     "metadata": {},
     "output_type": "execute_result"
    }
   ],
   "source": [
    "# How many customers fall in each income cluster\n",
    "df['income cluster'].value_counts()"
   ]
  },
  {
   "cell_type": "code",
   "execution_count": 20,
   "id": "c54b8e66",
   "metadata": {},
   "outputs": [
    {
     "data": {
      "text/plain": [
       "23517.33093093093"
      ]
     },
     "execution_count": 20,
     "metadata": {},
     "output_type": "execute_result"
    }
   ],
   "source": [
    "# ideal number of clusters to use. (using the elbow method)\n",
    "clustering1.inertia_"
   ]
  },
  {
   "cell_type": "code",
   "execution_count": 21,
   "id": "b8430707",
   "metadata": {},
   "outputs": [],
   "source": [
    "inertia_scores = []\n",
    "\n",
    "for i in range(1,11):\n",
    "    kmeans = KMeans(n_clusters = i)\n",
    "    kmeans.fit(df[['Annual Income (k$)']])\n",
    "    inertia_scores.append(kmeans.inertia_)"
   ]
  },
  {
   "cell_type": "code",
   "execution_count": 22,
   "id": "81b775a7",
   "metadata": {},
   "outputs": [
    {
     "data": {
      "text/plain": [
       "[137277.28000000006,\n",
       " 48660.888888888876,\n",
       " 23517.33093093093,\n",
       " 13278.112713472483,\n",
       " 8481.49619047619,\n",
       " 5050.9047619047615,\n",
       " 3931.9880952380945,\n",
       " 2822.4996947496966,\n",
       " 2173.2874458874467,\n",
       " 1856.4664141414137]"
      ]
     },
     "execution_count": 22,
     "metadata": {},
     "output_type": "execute_result"
    }
   ],
   "source": [
    "inertia_scores"
   ]
  },
  {
   "cell_type": "code",
   "execution_count": 23,
   "id": "2961f7a4",
   "metadata": {},
   "outputs": [
    {
     "data": {
      "text/plain": [
       "[<matplotlib.lines.Line2D at 0x28ab83da640>]"
      ]
     },
     "execution_count": 23,
     "metadata": {},
     "output_type": "execute_result"
    },
    {
     "data": {
      "image/png": "[encoded data removed]",
      "text/plain": [
       "<Figure size 432x288 with 1 Axes>"
      ]
     },
     "metadata": {
      "needs_background": "light"
     },
     "output_type": "display_data"
    }
   ],
   "source": [
    "plt.plot(range(1,11), inertia_scores)"
   ]
  },
  {
   "cell_type": "code",
   "execution_count": 24,
   "id": "03415d17",
   "metadata": {},
   "outputs": [
    {
     "data": {
      "text/html": [
       "<div>\n",
       "<style scoped>\n",
       "    .dataframe tbody tr th:only-of-type {\n",
       "        vertical-align: middle;\n",
       "    }\n",
       "\n",
       "    .dataframe tbody tr th {\n",
       "        vertical-align: top;\n",
       "    }\n",
       "\n",
       "    .dataframe thead th {\n",
       "        text-align: right;\n",
       "    }\n",
       "</style>\n",
       "<table border=\"1\" class=\"dataframe\">\n",
       "  <thead>\n",
       "    <tr style=\"text-align: right;\">\n",
       "      <th></th>\n",
       "      <th>Age</th>\n",
       "      <th>Annual Income (k$)</th>\n",
       "      <th>Spending Score (1-100)</th>\n",
       "    </tr>\n",
       "    <tr>\n",
       "      <th>income cluster</th>\n",
       "      <th></th>\n",
       "      <th></th>\n",
       "      <th></th>\n",
       "    </tr>\n",
       "  </thead>\n",
       "  <tbody>\n",
       "    <tr>\n",
       "      <th>0</th>\n",
       "      <td>37.833333</td>\n",
       "      <td>99.888889</td>\n",
       "      <td>50.638889</td>\n",
       "    </tr>\n",
       "    <tr>\n",
       "      <th>1</th>\n",
       "      <td>39.500000</td>\n",
       "      <td>33.486486</td>\n",
       "      <td>50.229730</td>\n",
       "    </tr>\n",
       "    <tr>\n",
       "      <th>2</th>\n",
       "      <td>38.722222</td>\n",
       "      <td>67.088889</td>\n",
       "      <td>50.000000</td>\n",
       "    </tr>\n",
       "  </tbody>\n",
       "</table>\n",
       "</div>"
      ],
      "text/plain": [
       "                      Age  Annual Income (k$)  Spending Score (1-100)\n",
       "income cluster                                                       \n",
       "0               37.833333           99.888889               50.638889\n",
       "1               39.500000           33.486486               50.229730\n",
       "2               38.722222           67.088889               50.000000"
      ]
     },
     "execution_count": 24,
     "metadata": {},
     "output_type": "execute_result"
    }
   ],
   "source": [
    "df.groupby('income cluster')['Age', 'Annual Income (k$)','Spending Score (1-100)'].mean()"
   ]
  },
  {
   "cell_type": "code",
   "execution_count": 25,
   "id": "5654eb9b",
   "metadata": {},
   "outputs": [
    {
     "data": {
      "text/html": [
       "<div>\n",
       "<style scoped>\n",
       "    .dataframe tbody tr th:only-of-type {\n",
       "        vertical-align: middle;\n",
       "    }\n",
       "\n",
       "    .dataframe tbody tr th {\n",
       "        vertical-align: top;\n",
       "    }\n",
       "\n",
       "    .dataframe thead th {\n",
       "        text-align: right;\n",
       "    }\n",
       "</style>\n",
       "<table border=\"1\" class=\"dataframe\">\n",
       "  <thead>\n",
       "    <tr style=\"text-align: right;\">\n",
       "      <th></th>\n",
       "      <th>Gender</th>\n",
       "      <th>Age</th>\n",
       "      <th>Annual Income (k$)</th>\n",
       "      <th>Spending Score (1-100)</th>\n",
       "      <th>income cluster</th>\n",
       "      <th>spending &amp; income cluster</th>\n",
       "    </tr>\n",
       "  </thead>\n",
       "  <tbody>\n",
       "    <tr>\n",
       "      <th>0</th>\n",
       "      <td>Male</td>\n",
       "      <td>19</td>\n",
       "      <td>15</td>\n",
       "      <td>39</td>\n",
       "      <td>1</td>\n",
       "      <td>4</td>\n",
       "    </tr>\n",
       "    <tr>\n",
       "      <th>1</th>\n",
       "      <td>Male</td>\n",
       "      <td>21</td>\n",
       "      <td>15</td>\n",
       "      <td>81</td>\n",
       "      <td>1</td>\n",
       "      <td>0</td>\n",
       "    </tr>\n",
       "    <tr>\n",
       "      <th>2</th>\n",
       "      <td>Female</td>\n",
       "      <td>20</td>\n",
       "      <td>16</td>\n",
       "      <td>6</td>\n",
       "      <td>1</td>\n",
       "      <td>4</td>\n",
       "    </tr>\n",
       "    <tr>\n",
       "      <th>3</th>\n",
       "      <td>Female</td>\n",
       "      <td>23</td>\n",
       "      <td>16</td>\n",
       "      <td>77</td>\n",
       "      <td>1</td>\n",
       "      <td>0</td>\n",
       "    </tr>\n",
       "    <tr>\n",
       "      <th>4</th>\n",
       "      <td>Female</td>\n",
       "      <td>31</td>\n",
       "      <td>17</td>\n",
       "      <td>40</td>\n",
       "      <td>1</td>\n",
       "      <td>4</td>\n",
       "    </tr>\n",
       "  </tbody>\n",
       "</table>\n",
       "</div>"
      ],
      "text/plain": [
       "   Gender  Age  Annual Income (k$)  Spending Score (1-100)  income cluster  \\\n",
       "0    Male   19                  15                      39               1   \n",
       "1    Male   21                  15                      81               1   \n",
       "2  Female   20                  16                       6               1   \n",
       "3  Female   23                  16                      77               1   \n",
       "4  Female   31                  17                      40               1   \n",
       "\n",
       "   spending & income cluster  \n",
       "0                          4  \n",
       "1                          0  \n",
       "2                          4  \n",
       "3                          0  \n",
       "4                          4  "
      ]
     },
     "execution_count": 25,
     "metadata": {},
     "output_type": "execute_result"
    }
   ],
   "source": [
    "# Bivariate clustering\n",
    "\n",
    "clustering2 = KMeans(n_clusters = 5)\n",
    "clustering2.fit(df[['Annual Income (k$)','Spending Score (1-100)']])\n",
    "df['spending & income cluster'] = clustering2.labels_\n",
    "df.head()"
   ]
  },
  {
   "cell_type": "code",
   "execution_count": 26,
   "id": "51cf1988",
   "metadata": {},
   "outputs": [],
   "source": [
    "inertia_scores2 = []\n",
    "\n",
    "for i in range(1,11):\n",
    "    kmeans2 = KMeans(n_clusters = i)\n",
    "    kmeans2.fit(df[['Annual Income (k$)', 'Spending Score (1-100)']])\n",
    "    inertia_scores2.append(kmeans2.inertia_)"
   ]
  },
  {
   "cell_type": "code",
   "execution_count": 27,
   "id": "336830e4",
   "metadata": {},
   "outputs": [
    {
     "data": {
      "text/plain": [
       "[<matplotlib.lines.Line2D at 0x28ab202efd0>]"
      ]
     },
     "execution_count": 27,
     "metadata": {},
     "output_type": "execute_result"
    },
    {
     "data": {
      "image/png": "[encoded data removed]",
      "text/plain": [
       "<Figure size 432x288 with 1 Axes>"
      ]
     },
     "metadata": {
      "needs_background": "light"
     },
     "output_type": "display_data"
    }
   ],
   "source": [
    "plt.plot(range(1,11), inertia_scores2)"
   ]
  },
  {
   "cell_type": "code",
   "execution_count": 28,
   "id": "1b4fef76",
   "metadata": {},
   "outputs": [
    {
     "data": {
      "text/html": [
       "<div>\n",
       "<style scoped>\n",
       "    .dataframe tbody tr th:only-of-type {\n",
       "        vertical-align: middle;\n",
       "    }\n",
       "\n",
       "    .dataframe tbody tr th {\n",
       "        vertical-align: top;\n",
       "    }\n",
       "\n",
       "    .dataframe thead th {\n",
       "        text-align: right;\n",
       "    }\n",
       "</style>\n",
       "<table border=\"1\" class=\"dataframe\">\n",
       "  <thead>\n",
       "    <tr style=\"text-align: right;\">\n",
       "      <th></th>\n",
       "      <th>Age</th>\n",
       "      <th>Annual Income (k$)</th>\n",
       "      <th>Spending Score (1-100)</th>\n",
       "    </tr>\n",
       "    <tr>\n",
       "      <th>spending &amp; income cluster</th>\n",
       "      <th></th>\n",
       "      <th></th>\n",
       "      <th></th>\n",
       "    </tr>\n",
       "  </thead>\n",
       "  <tbody>\n",
       "    <tr>\n",
       "      <th>0</th>\n",
       "      <td>25.272727</td>\n",
       "      <td>25.727273</td>\n",
       "      <td>79.363636</td>\n",
       "    </tr>\n",
       "    <tr>\n",
       "      <th>1</th>\n",
       "      <td>41.114286</td>\n",
       "      <td>88.200000</td>\n",
       "      <td>17.114286</td>\n",
       "    </tr>\n",
       "    <tr>\n",
       "      <th>2</th>\n",
       "      <td>32.692308</td>\n",
       "      <td>86.538462</td>\n",
       "      <td>82.128205</td>\n",
       "    </tr>\n",
       "    <tr>\n",
       "      <th>3</th>\n",
       "      <td>42.716049</td>\n",
       "      <td>55.296296</td>\n",
       "      <td>49.518519</td>\n",
       "    </tr>\n",
       "    <tr>\n",
       "      <th>4</th>\n",
       "      <td>45.217391</td>\n",
       "      <td>26.304348</td>\n",
       "      <td>20.913043</td>\n",
       "    </tr>\n",
       "  </tbody>\n",
       "</table>\n",
       "</div>"
      ],
      "text/plain": [
       "                                 Age  Annual Income (k$)  \\\n",
       "spending & income cluster                                  \n",
       "0                          25.272727           25.727273   \n",
       "1                          41.114286           88.200000   \n",
       "2                          32.692308           86.538462   \n",
       "3                          42.716049           55.296296   \n",
       "4                          45.217391           26.304348   \n",
       "\n",
       "                           Spending Score (1-100)  \n",
       "spending & income cluster                          \n",
       "0                                       79.363636  \n",
       "1                                       17.114286  \n",
       "2                                       82.128205  \n",
       "3                                       49.518519  \n",
       "4                                       20.913043  "
      ]
     },
     "execution_count": 28,
     "metadata": {},
     "output_type": "execute_result"
    }
   ],
   "source": [
    "df.groupby('spending & income cluster')['Age', 'Annual Income (k$)','Spending Score (1-100)'].mean()"
   ]
  },
  {
   "cell_type": "code",
   "execution_count": 29,
   "id": "65abb101",
   "metadata": {},
   "outputs": [
    {
     "data": {
      "text/html": [
       "<div>\n",
       "<style scoped>\n",
       "    .dataframe tbody tr th:only-of-type {\n",
       "        vertical-align: middle;\n",
       "    }\n",
       "\n",
       "    .dataframe tbody tr th {\n",
       "        vertical-align: top;\n",
       "    }\n",
       "\n",
       "    .dataframe thead th {\n",
       "        text-align: right;\n",
       "    }\n",
       "</style>\n",
       "<table border=\"1\" class=\"dataframe\">\n",
       "  <thead>\n",
       "    <tr style=\"text-align: right;\">\n",
       "      <th></th>\n",
       "      <th>x</th>\n",
       "      <th>y</th>\n",
       "    </tr>\n",
       "  </thead>\n",
       "  <tbody>\n",
       "    <tr>\n",
       "      <th>0</th>\n",
       "      <td>25.727273</td>\n",
       "      <td>79.363636</td>\n",
       "    </tr>\n",
       "    <tr>\n",
       "      <th>1</th>\n",
       "      <td>88.200000</td>\n",
       "      <td>17.114286</td>\n",
       "    </tr>\n",
       "    <tr>\n",
       "      <th>2</th>\n",
       "      <td>86.538462</td>\n",
       "      <td>82.128205</td>\n",
       "    </tr>\n",
       "    <tr>\n",
       "      <th>3</th>\n",
       "      <td>55.296296</td>\n",
       "      <td>49.518519</td>\n",
       "    </tr>\n",
       "    <tr>\n",
       "      <th>4</th>\n",
       "      <td>26.304348</td>\n",
       "      <td>20.913043</td>\n",
       "    </tr>\n",
       "  </tbody>\n",
       "</table>\n",
       "</div>"
      ],
      "text/plain": [
       "           x          y\n",
       "0  25.727273  79.363636\n",
       "1  88.200000  17.114286\n",
       "2  86.538462  82.128205\n",
       "3  55.296296  49.518519\n",
       "4  26.304348  20.913043"
      ]
     },
     "execution_count": 29,
     "metadata": {},
     "output_type": "execute_result"
    }
   ],
   "source": [
    "# get cluster centres\n",
    "centers = pd.DataFrame(clustering2.cluster_centers_)\n",
    "centers.columns = ['x', 'y']\n",
    "centers"
   ]
  },
  {
   "cell_type": "code",
   "execution_count": 30,
   "id": "d9b7a27c",
   "metadata": {},
   "outputs": [
    {
     "data": {
      "image/png": "[encoded data removed]",
      "text/plain": [
       "<Figure size 720x576 with 1 Axes>"
      ]
     },
     "metadata": {
      "needs_background": "light"
     },
     "output_type": "display_data"
    }
   ],
   "source": [
    "plt.figure(figsize = (10,8))\n",
    "plt.scatter(x = centers['x'],y = centers['y'], s = 100, c = 'black', marker = '*')\n",
    "sns.scatterplot(data = df, x = 'Annual Income (k$)', y = 'Spending Score (1-100)', hue = 'spending & income cluster', palette = 'tab10')\n",
    "plt.savefig('clustring_bivariate.png')"
   ]
  },
  {
   "cell_type": "code",
   "execution_count": 31,
   "id": "444b0df9",
   "metadata": {},
   "outputs": [
    {
     "data": {
      "text/html": [
       "<div>\n",
       "<style scoped>\n",
       "    .dataframe tbody tr th:only-of-type {\n",
       "        vertical-align: middle;\n",
       "    }\n",
       "\n",
       "    .dataframe tbody tr th {\n",
       "        vertical-align: top;\n",
       "    }\n",
       "\n",
       "    .dataframe thead th {\n",
       "        text-align: right;\n",
       "    }\n",
       "</style>\n",
       "<table border=\"1\" class=\"dataframe\">\n",
       "  <thead>\n",
       "    <tr style=\"text-align: right;\">\n",
       "      <th>Gender</th>\n",
       "      <th>Female</th>\n",
       "      <th>Male</th>\n",
       "    </tr>\n",
       "    <tr>\n",
       "      <th>spending &amp; income cluster</th>\n",
       "      <th></th>\n",
       "      <th></th>\n",
       "    </tr>\n",
       "  </thead>\n",
       "  <tbody>\n",
       "    <tr>\n",
       "      <th>0</th>\n",
       "      <td>0.590909</td>\n",
       "      <td>0.409091</td>\n",
       "    </tr>\n",
       "    <tr>\n",
       "      <th>1</th>\n",
       "      <td>0.457143</td>\n",
       "      <td>0.542857</td>\n",
       "    </tr>\n",
       "    <tr>\n",
       "      <th>2</th>\n",
       "      <td>0.538462</td>\n",
       "      <td>0.461538</td>\n",
       "    </tr>\n",
       "    <tr>\n",
       "      <th>3</th>\n",
       "      <td>0.592593</td>\n",
       "      <td>0.407407</td>\n",
       "    </tr>\n",
       "    <tr>\n",
       "      <th>4</th>\n",
       "      <td>0.608696</td>\n",
       "      <td>0.391304</td>\n",
       "    </tr>\n",
       "  </tbody>\n",
       "</table>\n",
       "</div>"
      ],
      "text/plain": [
       "Gender                       Female      Male\n",
       "spending & income cluster                    \n",
       "0                          0.590909  0.409091\n",
       "1                          0.457143  0.542857\n",
       "2                          0.538462  0.461538\n",
       "3                          0.592593  0.407407\n",
       "4                          0.608696  0.391304"
      ]
     },
     "execution_count": 31,
     "metadata": {},
     "output_type": "execute_result"
    }
   ],
   "source": [
    "pd.crosstab(df['spending & income cluster'], df['Gender'], normalize = 'index')"
   ]
  },
  {
   "cell_type": "code",
   "execution_count": 32,
   "id": "626c5e49",
   "metadata": {},
   "outputs": [
    {
     "data": {
      "text/html": [
       "<div>\n",
       "<style scoped>\n",
       "    .dataframe tbody tr th:only-of-type {\n",
       "        vertical-align: middle;\n",
       "    }\n",
       "\n",
       "    .dataframe tbody tr th {\n",
       "        vertical-align: top;\n",
       "    }\n",
       "\n",
       "    .dataframe thead th {\n",
       "        text-align: right;\n",
       "    }\n",
       "</style>\n",
       "<table border=\"1\" class=\"dataframe\">\n",
       "  <thead>\n",
       "    <tr style=\"text-align: right;\">\n",
       "      <th></th>\n",
       "      <th>Age</th>\n",
       "      <th>Annual Income (k$)</th>\n",
       "      <th>Spending Score (1-100)</th>\n",
       "    </tr>\n",
       "    <tr>\n",
       "      <th>spending &amp; income cluster</th>\n",
       "      <th></th>\n",
       "      <th></th>\n",
       "      <th></th>\n",
       "    </tr>\n",
       "  </thead>\n",
       "  <tbody>\n",
       "    <tr>\n",
       "      <th>0</th>\n",
       "      <td>25.272727</td>\n",
       "      <td>25.727273</td>\n",
       "      <td>79.363636</td>\n",
       "    </tr>\n",
       "    <tr>\n",
       "      <th>1</th>\n",
       "      <td>41.114286</td>\n",
       "      <td>88.200000</td>\n",
       "      <td>17.114286</td>\n",
       "    </tr>\n",
       "    <tr>\n",
       "      <th>2</th>\n",
       "      <td>32.692308</td>\n",
       "      <td>86.538462</td>\n",
       "      <td>82.128205</td>\n",
       "    </tr>\n",
       "    <tr>\n",
       "      <th>3</th>\n",
       "      <td>42.716049</td>\n",
       "      <td>55.296296</td>\n",
       "      <td>49.518519</td>\n",
       "    </tr>\n",
       "    <tr>\n",
       "      <th>4</th>\n",
       "      <td>45.217391</td>\n",
       "      <td>26.304348</td>\n",
       "      <td>20.913043</td>\n",
       "    </tr>\n",
       "  </tbody>\n",
       "</table>\n",
       "</div>"
      ],
      "text/plain": [
       "                                 Age  Annual Income (k$)  \\\n",
       "spending & income cluster                                  \n",
       "0                          25.272727           25.727273   \n",
       "1                          41.114286           88.200000   \n",
       "2                          32.692308           86.538462   \n",
       "3                          42.716049           55.296296   \n",
       "4                          45.217391           26.304348   \n",
       "\n",
       "                           Spending Score (1-100)  \n",
       "spending & income cluster                          \n",
       "0                                       79.363636  \n",
       "1                                       17.114286  \n",
       "2                                       82.128205  \n",
       "3                                       49.518519  \n",
       "4                                       20.913043  "
      ]
     },
     "execution_count": 32,
     "metadata": {},
     "output_type": "execute_result"
    }
   ],
   "source": [
    "#average age per cluster\n",
    "df.groupby('spending & income cluster')['Age', 'Annual Income (k$)','Spending Score (1-100)'].mean()"
   ]
  },
  {
   "cell_type": "code",
   "execution_count": 33,
   "id": "e1297eac",
   "metadata": {},
   "outputs": [],
   "source": [
    "# Multivariate clustering\n",
    "from sklearn.preprocessing import StandardScaler"
   ]
  },
  {
   "cell_type": "code",
   "execution_count": 34,
   "id": "15cd8e8f",
   "metadata": {},
   "outputs": [],
   "source": [
    "scale = StandardScaler()"
   ]
  },
  {
   "cell_type": "code",
   "execution_count": 35,
   "id": "a6c4a68c",
   "metadata": {},
   "outputs": [
    {
     "data": {
      "text/html": [
       "<div>\n",
       "<style scoped>\n",
       "    .dataframe tbody tr th:only-of-type {\n",
       "        vertical-align: middle;\n",
       "    }\n",
       "\n",
       "    .dataframe tbody tr th {\n",
       "        vertical-align: top;\n",
       "    }\n",
       "\n",
       "    .dataframe thead th {\n",
       "        text-align: right;\n",
       "    }\n",
       "</style>\n",
       "<table border=\"1\" class=\"dataframe\">\n",
       "  <thead>\n",
       "    <tr style=\"text-align: right;\">\n",
       "      <th></th>\n",
       "      <th>Gender</th>\n",
       "      <th>Age</th>\n",
       "      <th>Annual Income (k$)</th>\n",
       "      <th>Spending Score (1-100)</th>\n",
       "      <th>income cluster</th>\n",
       "      <th>spending &amp; income cluster</th>\n",
       "    </tr>\n",
       "  </thead>\n",
       "  <tbody>\n",
       "    <tr>\n",
       "      <th>0</th>\n",
       "      <td>Male</td>\n",
       "      <td>19</td>\n",
       "      <td>15</td>\n",
       "      <td>39</td>\n",
       "      <td>1</td>\n",
       "      <td>4</td>\n",
       "    </tr>\n",
       "    <tr>\n",
       "      <th>1</th>\n",
       "      <td>Male</td>\n",
       "      <td>21</td>\n",
       "      <td>15</td>\n",
       "      <td>81</td>\n",
       "      <td>1</td>\n",
       "      <td>0</td>\n",
       "    </tr>\n",
       "    <tr>\n",
       "      <th>2</th>\n",
       "      <td>Female</td>\n",
       "      <td>20</td>\n",
       "      <td>16</td>\n",
       "      <td>6</td>\n",
       "      <td>1</td>\n",
       "      <td>4</td>\n",
       "    </tr>\n",
       "    <tr>\n",
       "      <th>3</th>\n",
       "      <td>Female</td>\n",
       "      <td>23</td>\n",
       "      <td>16</td>\n",
       "      <td>77</td>\n",
       "      <td>1</td>\n",
       "      <td>0</td>\n",
       "    </tr>\n",
       "    <tr>\n",
       "      <th>4</th>\n",
       "      <td>Female</td>\n",
       "      <td>31</td>\n",
       "      <td>17</td>\n",
       "      <td>40</td>\n",
       "      <td>1</td>\n",
       "      <td>4</td>\n",
       "    </tr>\n",
       "  </tbody>\n",
       "</table>\n",
       "</div>"
      ],
      "text/plain": [
       "   Gender  Age  Annual Income (k$)  Spending Score (1-100)  income cluster  \\\n",
       "0    Male   19                  15                      39               1   \n",
       "1    Male   21                  15                      81               1   \n",
       "2  Female   20                  16                       6               1   \n",
       "3  Female   23                  16                      77               1   \n",
       "4  Female   31                  17                      40               1   \n",
       "\n",
       "   spending & income cluster  \n",
       "0                          4  \n",
       "1                          0  \n",
       "2                          4  \n",
       "3                          0  \n",
       "4                          4  "
      ]
     },
     "execution_count": 35,
     "metadata": {},
     "output_type": "execute_result"
    }
   ],
   "source": [
    "df.head()"
   ]
  },
  {
   "cell_type": "code",
   "execution_count": 36,
   "id": "f31875ce",
   "metadata": {},
   "outputs": [
    {
     "data": {
      "text/html": [
       "<div>\n",
       "<style scoped>\n",
       "    .dataframe tbody tr th:only-of-type {\n",
       "        vertical-align: middle;\n",
       "    }\n",
       "\n",
       "    .dataframe tbody tr th {\n",
       "        vertical-align: top;\n",
       "    }\n",
       "\n",
       "    .dataframe thead th {\n",
       "        text-align: right;\n",
       "    }\n",
       "</style>\n",
       "<table border=\"1\" class=\"dataframe\">\n",
       "  <thead>\n",
       "    <tr style=\"text-align: right;\">\n",
       "      <th></th>\n",
       "      <th>Age</th>\n",
       "      <th>Annual Income (k$)</th>\n",
       "      <th>Spending Score (1-100)</th>\n",
       "      <th>income cluster</th>\n",
       "      <th>spending &amp; income cluster</th>\n",
       "      <th>Gender_Male</th>\n",
       "    </tr>\n",
       "  </thead>\n",
       "  <tbody>\n",
       "    <tr>\n",
       "      <th>0</th>\n",
       "      <td>19</td>\n",
       "      <td>15</td>\n",
       "      <td>39</td>\n",
       "      <td>1</td>\n",
       "      <td>4</td>\n",
       "      <td>1</td>\n",
       "    </tr>\n",
       "    <tr>\n",
       "      <th>1</th>\n",
       "      <td>21</td>\n",
       "      <td>15</td>\n",
       "      <td>81</td>\n",
       "      <td>1</td>\n",
       "      <td>0</td>\n",
       "      <td>1</td>\n",
       "    </tr>\n",
       "    <tr>\n",
       "      <th>2</th>\n",
       "      <td>20</td>\n",
       "      <td>16</td>\n",
       "      <td>6</td>\n",
       "      <td>1</td>\n",
       "      <td>4</td>\n",
       "      <td>0</td>\n",
       "    </tr>\n",
       "    <tr>\n",
       "      <th>3</th>\n",
       "      <td>23</td>\n",
       "      <td>16</td>\n",
       "      <td>77</td>\n",
       "      <td>1</td>\n",
       "      <td>0</td>\n",
       "      <td>0</td>\n",
       "    </tr>\n",
       "    <tr>\n",
       "      <th>4</th>\n",
       "      <td>31</td>\n",
       "      <td>17</td>\n",
       "      <td>40</td>\n",
       "      <td>1</td>\n",
       "      <td>4</td>\n",
       "      <td>0</td>\n",
       "    </tr>\n",
       "  </tbody>\n",
       "</table>\n",
       "</div>"
      ],
      "text/plain": [
       "   Age  Annual Income (k$)  Spending Score (1-100)  income cluster  \\\n",
       "0   19                  15                      39               1   \n",
       "1   21                  15                      81               1   \n",
       "2   20                  16                       6               1   \n",
       "3   23                  16                      77               1   \n",
       "4   31                  17                      40               1   \n",
       "\n",
       "   spending & income cluster  Gender_Male  \n",
       "0                          4            1  \n",
       "1                          0            1  \n",
       "2                          4            0  \n",
       "3                          0            0  \n",
       "4                          4            0  "
      ]
     },
     "execution_count": 36,
     "metadata": {},
     "output_type": "execute_result"
    }
   ],
   "source": [
    "df = pd.get_dummies(df, drop_first = True)\n",
    "df.head()"
   ]
  },
  {
   "cell_type": "code",
   "execution_count": 37,
   "id": "21fb9a08",
   "metadata": {},
   "outputs": [
    {
     "data": {
      "text/plain": [
       "Index(['Age', 'Annual Income (k$)', 'Spending Score (1-100)', 'income cluster',\n",
       "       'spending & income cluster', 'Gender_Male'],\n",
       "      dtype='object')"
      ]
     },
     "execution_count": 37,
     "metadata": {},
     "output_type": "execute_result"
    }
   ],
   "source": [
    "df.columns"
   ]
  },
  {
   "cell_type": "code",
   "execution_count": 38,
   "id": "b7fe6884",
   "metadata": {},
   "outputs": [
    {
     "data": {
      "text/html": [
       "<div>\n",
       "<style scoped>\n",
       "    .dataframe tbody tr th:only-of-type {\n",
       "        vertical-align: middle;\n",
       "    }\n",
       "\n",
       "    .dataframe tbody tr th {\n",
       "        vertical-align: top;\n",
       "    }\n",
       "\n",
       "    .dataframe thead th {\n",
       "        text-align: right;\n",
       "    }\n",
       "</style>\n",
       "<table border=\"1\" class=\"dataframe\">\n",
       "  <thead>\n",
       "    <tr style=\"text-align: right;\">\n",
       "      <th></th>\n",
       "      <th>Age</th>\n",
       "      <th>Annual Income (k$)</th>\n",
       "      <th>Spending Score (1-100)</th>\n",
       "      <th>Gender_Male</th>\n",
       "    </tr>\n",
       "  </thead>\n",
       "  <tbody>\n",
       "    <tr>\n",
       "      <th>0</th>\n",
       "      <td>19</td>\n",
       "      <td>15</td>\n",
       "      <td>39</td>\n",
       "      <td>1</td>\n",
       "    </tr>\n",
       "    <tr>\n",
       "      <th>1</th>\n",
       "      <td>21</td>\n",
       "      <td>15</td>\n",
       "      <td>81</td>\n",
       "      <td>1</td>\n",
       "    </tr>\n",
       "    <tr>\n",
       "      <th>2</th>\n",
       "      <td>20</td>\n",
       "      <td>16</td>\n",
       "      <td>6</td>\n",
       "      <td>0</td>\n",
       "    </tr>\n",
       "    <tr>\n",
       "      <th>3</th>\n",
       "      <td>23</td>\n",
       "      <td>16</td>\n",
       "      <td>77</td>\n",
       "      <td>0</td>\n",
       "    </tr>\n",
       "    <tr>\n",
       "      <th>4</th>\n",
       "      <td>31</td>\n",
       "      <td>17</td>\n",
       "      <td>40</td>\n",
       "      <td>0</td>\n",
       "    </tr>\n",
       "  </tbody>\n",
       "</table>\n",
       "</div>"
      ],
      "text/plain": [
       "   Age  Annual Income (k$)  Spending Score (1-100)  Gender_Male\n",
       "0   19                  15                      39            1\n",
       "1   21                  15                      81            1\n",
       "2   20                  16                       6            0\n",
       "3   23                  16                      77            0\n",
       "4   31                  17                      40            0"
      ]
     },
     "execution_count": 38,
     "metadata": {},
     "output_type": "execute_result"
    }
   ],
   "source": [
    "df = df[['Age', 'Annual Income (k$)', 'Spending Score (1-100)','Gender_Male']]\n",
    "df.head()"
   ]
  },
  {
   "cell_type": "code",
   "execution_count": 39,
   "id": "5255ae7a",
   "metadata": {},
   "outputs": [
    {
     "data": {
      "text/plain": [
       "array([[-1.42456879, -1.73899919, -0.43480148,  1.12815215],\n",
       "       [-1.28103541, -1.73899919,  1.19570407,  1.12815215],\n",
       "       [-1.3528021 , -1.70082976, -1.71591298, -0.88640526],\n",
       "       [-1.13750203, -1.70082976,  1.04041783, -0.88640526],\n",
       "       [-0.56336851, -1.66266033, -0.39597992, -0.88640526],\n",
       "       [-1.20926872, -1.66266033,  1.00159627, -0.88640526],\n",
       "       [-0.27630176, -1.62449091, -1.71591298, -0.88640526],\n",
       "       [-1.13750203, -1.62449091,  1.70038436, -0.88640526],\n",
       "       [ 1.80493225, -1.58632148, -1.83237767,  1.12815215],\n",
       "       [-0.6351352 , -1.58632148,  0.84631002, -0.88640526],\n",
       "       [ 2.02023231, -1.58632148, -1.4053405 ,  1.12815215],\n",
       "       [-0.27630176, -1.58632148,  1.89449216, -0.88640526],\n",
       "       [ 1.37433211, -1.54815205, -1.36651894, -0.88640526],\n",
       "       [-1.06573534, -1.54815205,  1.04041783, -0.88640526],\n",
       "       [-0.13276838, -1.54815205, -1.44416206,  1.12815215],\n",
       "       [-1.20926872, -1.54815205,  1.11806095,  1.12815215],\n",
       "       [-0.27630176, -1.50998262, -0.59008772, -0.88640526],\n",
       "       [-1.3528021 , -1.50998262,  0.61338066,  1.12815215],\n",
       "       [ 0.94373197, -1.43364376, -0.82301709,  1.12815215],\n",
       "       [-0.27630176, -1.43364376,  1.8556706 , -0.88640526],\n",
       "       [-0.27630176, -1.39547433, -0.59008772,  1.12815215],\n",
       "       [-0.99396865, -1.39547433,  0.88513158,  1.12815215],\n",
       "       [ 0.51313183, -1.3573049 , -1.75473454, -0.88640526],\n",
       "       [-0.56336851, -1.3573049 ,  0.88513158,  1.12815215],\n",
       "       [ 1.08726535, -1.24279661, -1.4053405 , -0.88640526],\n",
       "       [-0.70690189, -1.24279661,  1.23452563,  1.12815215],\n",
       "       [ 0.44136514, -1.24279661, -0.7065524 , -0.88640526],\n",
       "       [-0.27630176, -1.24279661,  0.41927286,  1.12815215],\n",
       "       [ 0.08253169, -1.20462718, -0.74537397, -0.88640526],\n",
       "       [-1.13750203, -1.20462718,  1.42863343, -0.88640526],\n",
       "       [ 1.51786549, -1.16645776, -1.7935561 ,  1.12815215],\n",
       "       [-1.28103541, -1.16645776,  0.88513158, -0.88640526],\n",
       "       [ 1.01549866, -1.05194947, -1.7935561 ,  1.12815215],\n",
       "       [-1.49633548, -1.05194947,  1.62274124,  1.12815215],\n",
       "       [ 0.7284319 , -1.05194947, -1.4053405 , -0.88640526],\n",
       "       [-1.28103541, -1.05194947,  1.19570407, -0.88640526],\n",
       "       [ 0.22606507, -1.01378004, -1.28887582, -0.88640526],\n",
       "       [-0.6351352 , -1.01378004,  0.88513158, -0.88640526],\n",
       "       [-0.20453507, -0.89927175, -0.93948177, -0.88640526],\n",
       "       [-1.3528021 , -0.89927175,  0.96277471, -0.88640526],\n",
       "       [ 1.87669894, -0.86110232, -0.59008772, -0.88640526],\n",
       "       [-1.06573534, -0.86110232,  1.62274124,  1.12815215],\n",
       "       [ 0.65666521, -0.82293289, -0.55126616,  1.12815215],\n",
       "       [-0.56336851, -0.82293289,  0.41927286, -0.88640526],\n",
       "       [ 0.7284319 , -0.82293289, -0.86183865, -0.88640526],\n",
       "       [-1.06573534, -0.82293289,  0.5745591 , -0.88640526],\n",
       "       [ 0.80019859, -0.78476346,  0.18634349, -0.88640526],\n",
       "       [-0.85043527, -0.78476346, -0.12422899, -0.88640526],\n",
       "       [-0.70690189, -0.78476346, -0.3183368 , -0.88640526],\n",
       "       [-0.56336851, -0.78476346, -0.3183368 , -0.88640526],\n",
       "       [ 0.7284319 , -0.70842461,  0.06987881, -0.88640526],\n",
       "       [-0.41983513, -0.70842461,  0.38045129,  1.12815215],\n",
       "       [-0.56336851, -0.67025518,  0.14752193, -0.88640526],\n",
       "       [ 1.4460988 , -0.67025518,  0.38045129,  1.12815215],\n",
       "       [ 0.80019859, -0.67025518, -0.20187212, -0.88640526],\n",
       "       [ 0.58489852, -0.67025518, -0.35715836,  1.12815215],\n",
       "       [ 0.87196528, -0.63208575, -0.00776431, -0.88640526],\n",
       "       [ 2.16376569, -0.63208575, -0.16305055,  1.12815215],\n",
       "       [-0.85043527, -0.55574689,  0.03105725, -0.88640526],\n",
       "       [ 1.01549866, -0.55574689, -0.16305055,  1.12815215],\n",
       "       [ 2.23553238, -0.55574689,  0.22516505,  1.12815215],\n",
       "       [-1.42456879, -0.55574689,  0.18634349,  1.12815215],\n",
       "       [ 2.02023231, -0.51757746,  0.06987881, -0.88640526],\n",
       "       [ 1.08726535, -0.51757746,  0.34162973, -0.88640526],\n",
       "       [ 1.73316556, -0.47940803,  0.03105725,  1.12815215],\n",
       "       [-1.49633548, -0.47940803,  0.34162973,  1.12815215],\n",
       "       [ 0.29783176, -0.47940803, -0.00776431, -0.88640526],\n",
       "       [ 2.091999  , -0.47940803, -0.08540743, -0.88640526],\n",
       "       [-1.42456879, -0.47940803,  0.34162973,  1.12815215],\n",
       "       [-0.49160182, -0.47940803, -0.12422899, -0.88640526],\n",
       "       [ 2.23553238, -0.4412386 ,  0.18634349,  1.12815215],\n",
       "       [ 0.58489852, -0.4412386 , -0.3183368 , -0.88640526],\n",
       "       [ 1.51786549, -0.40306917, -0.04658587, -0.88640526],\n",
       "       [ 1.51786549, -0.40306917,  0.22516505, -0.88640526],\n",
       "       [ 1.4460988 , -0.25039146, -0.12422899,  1.12815215],\n",
       "       [-0.92220196, -0.25039146,  0.14752193,  1.12815215],\n",
       "       [ 0.44136514, -0.25039146,  0.10870037, -0.88640526],\n",
       "       [ 0.08253169, -0.25039146, -0.08540743,  1.12815215],\n",
       "       [-1.13750203, -0.25039146,  0.06987881, -0.88640526],\n",
       "       [ 0.7284319 , -0.25039146, -0.3183368 , -0.88640526],\n",
       "       [ 1.30256542, -0.25039146,  0.03105725,  1.12815215],\n",
       "       [-0.06100169, -0.25039146,  0.18634349,  1.12815215],\n",
       "       [ 2.02023231, -0.25039146, -0.35715836,  1.12815215],\n",
       "       [ 0.51313183, -0.25039146, -0.24069368, -0.88640526],\n",
       "       [-1.28103541, -0.25039146,  0.26398661, -0.88640526],\n",
       "       [ 0.65666521, -0.25039146, -0.16305055,  1.12815215],\n",
       "       [ 1.15903204, -0.13588317,  0.30280817, -0.88640526],\n",
       "       [-1.20926872, -0.13588317,  0.18634349, -0.88640526],\n",
       "       [-0.34806844, -0.09771374,  0.38045129, -0.88640526],\n",
       "       [ 0.80019859, -0.09771374, -0.16305055, -0.88640526],\n",
       "       [ 2.091999  , -0.05954431,  0.18634349, -0.88640526],\n",
       "       [-1.49633548, -0.05954431, -0.35715836,  1.12815215],\n",
       "       [ 0.65666521, -0.02137488, -0.04658587,  1.12815215],\n",
       "       [ 0.08253169, -0.02137488, -0.39597992, -0.88640526],\n",
       "       [-0.49160182, -0.02137488, -0.3183368 , -0.88640526],\n",
       "       [-1.06573534, -0.02137488,  0.06987881,  1.12815215],\n",
       "       [ 0.58489852, -0.02137488, -0.12422899, -0.88640526],\n",
       "       [-0.85043527, -0.02137488, -0.00776431, -0.88640526],\n",
       "       [ 0.65666521,  0.01679455, -0.3183368 ,  1.12815215],\n",
       "       [-1.3528021 ,  0.01679455, -0.04658587,  1.12815215],\n",
       "       [-1.13750203,  0.05496398, -0.35715836, -0.88640526],\n",
       "       [ 0.7284319 ,  0.05496398, -0.08540743, -0.88640526],\n",
       "       [ 2.02023231,  0.05496398,  0.34162973,  1.12815215],\n",
       "       [-0.92220196,  0.05496398,  0.18634349,  1.12815215],\n",
       "       [ 0.7284319 ,  0.05496398,  0.22516505,  1.12815215],\n",
       "       [-1.28103541,  0.05496398, -0.3183368 , -0.88640526],\n",
       "       [ 1.94846562,  0.09313341, -0.00776431, -0.88640526],\n",
       "       [ 1.08726535,  0.09313341, -0.16305055,  1.12815215],\n",
       "       [ 2.091999  ,  0.09313341, -0.27951524,  1.12815215],\n",
       "       [ 1.94846562,  0.09313341, -0.08540743,  1.12815215],\n",
       "       [ 1.87669894,  0.09313341,  0.06987881,  1.12815215],\n",
       "       [-1.42456879,  0.09313341,  0.14752193, -0.88640526],\n",
       "       [-0.06100169,  0.13130284, -0.3183368 , -0.88640526],\n",
       "       [-1.42456879,  0.13130284, -0.16305055,  1.12815215],\n",
       "       [-1.49633548,  0.16947227, -0.08540743, -0.88640526],\n",
       "       [-1.42456879,  0.16947227, -0.00776431, -0.88640526],\n",
       "       [ 1.73316556,  0.16947227, -0.27951524, -0.88640526],\n",
       "       [ 0.7284319 ,  0.16947227,  0.34162973, -0.88640526],\n",
       "       [ 0.87196528,  0.24581112, -0.27951524, -0.88640526],\n",
       "       [ 0.80019859,  0.24581112,  0.26398661, -0.88640526],\n",
       "       [-0.85043527,  0.24581112,  0.22516505,  1.12815215],\n",
       "       [-0.06100169,  0.24581112, -0.39597992, -0.88640526],\n",
       "       [ 0.08253169,  0.32214998,  0.30280817, -0.88640526],\n",
       "       [ 0.010765  ,  0.32214998,  1.58391968,  1.12815215],\n",
       "       [-1.13750203,  0.36031941, -0.82301709, -0.88640526],\n",
       "       [-0.56336851,  0.36031941,  1.04041783, -0.88640526],\n",
       "       [ 0.29783176,  0.39848884, -0.59008772,  1.12815215],\n",
       "       [ 0.08253169,  0.39848884,  1.73920592,  1.12815215],\n",
       "       [ 1.4460988 ,  0.39848884, -1.52180518,  1.12815215],\n",
       "       [-0.06100169,  0.39848884,  0.96277471,  1.12815215],\n",
       "       [ 0.58489852,  0.39848884, -1.5994483 ,  1.12815215],\n",
       "       [ 0.010765  ,  0.39848884,  0.96277471,  1.12815215],\n",
       "       [-0.99396865,  0.43665827, -0.62890928, -0.88640526],\n",
       "       [-0.56336851,  0.43665827,  0.80748846, -0.88640526],\n",
       "       [-1.3528021 ,  0.4748277 , -1.75473454,  1.12815215],\n",
       "       [-0.70690189,  0.4748277 ,  1.46745499, -0.88640526],\n",
       "       [ 0.36959845,  0.4748277 , -1.67709142, -0.88640526],\n",
       "       [-0.49160182,  0.4748277 ,  0.88513158,  1.12815215],\n",
       "       [-1.42456879,  0.51299713, -1.56062674,  1.12815215],\n",
       "       [-0.27630176,  0.51299713,  0.84631002, -0.88640526],\n",
       "       [ 1.30256542,  0.55116656, -1.75473454, -0.88640526],\n",
       "       [-0.49160182,  0.55116656,  1.6615628 ,  1.12815215],\n",
       "       [-0.77866858,  0.58933599, -0.39597992, -0.88640526],\n",
       "       [-0.49160182,  0.58933599,  1.42863343, -0.88640526],\n",
       "       [-0.99396865,  0.62750542, -1.48298362,  1.12815215],\n",
       "       [-0.77866858,  0.62750542,  1.81684904,  1.12815215],\n",
       "       [ 0.65666521,  0.62750542, -0.55126616,  1.12815215],\n",
       "       [-0.49160182,  0.62750542,  0.92395314, -0.88640526],\n",
       "       [-0.34806844,  0.66567484, -1.09476801, -0.88640526],\n",
       "       [-0.34806844,  0.66567484,  1.54509812,  1.12815215],\n",
       "       [ 0.29783176,  0.66567484, -1.28887582,  1.12815215],\n",
       "       [ 0.010765  ,  0.66567484,  1.46745499,  1.12815215],\n",
       "       [ 0.36959845,  0.66567484, -1.17241113, -0.88640526],\n",
       "       [-0.06100169,  0.66567484,  1.00159627, -0.88640526],\n",
       "       [ 0.58489852,  0.66567484, -1.32769738, -0.88640526],\n",
       "       [-0.85043527,  0.66567484,  1.50627656, -0.88640526],\n",
       "       [-0.13276838,  0.66567484, -1.91002079,  1.12815215],\n",
       "       [-0.6351352 ,  0.66567484,  1.07923939, -0.88640526],\n",
       "       [-0.34806844,  0.66567484, -1.91002079,  1.12815215],\n",
       "       [-0.6351352 ,  0.66567484,  0.88513158, -0.88640526],\n",
       "       [ 1.23079873,  0.70384427, -0.59008772, -0.88640526],\n",
       "       [-0.70690189,  0.70384427,  1.27334719, -0.88640526],\n",
       "       [-1.42456879,  0.78018313, -1.75473454,  1.12815215],\n",
       "       [-0.56336851,  0.78018313,  1.6615628 , -0.88640526],\n",
       "       [ 0.80019859,  0.93286085, -0.93948177,  1.12815215],\n",
       "       [-0.20453507,  0.93286085,  0.96277471, -0.88640526],\n",
       "       [ 0.22606507,  0.97103028, -1.17241113,  1.12815215],\n",
       "       [-0.41983513,  0.97103028,  1.73920592, -0.88640526],\n",
       "       [-0.20453507,  1.00919971, -0.90066021, -0.88640526],\n",
       "       [-0.49160182,  1.00919971,  0.49691598,  1.12815215],\n",
       "       [ 0.08253169,  1.00919971, -1.44416206,  1.12815215],\n",
       "       [-0.77866858,  1.00919971,  0.96277471,  1.12815215],\n",
       "       [-0.20453507,  1.00919971, -1.56062674,  1.12815215],\n",
       "       [-0.20453507,  1.00919971,  1.62274124,  1.12815215],\n",
       "       [ 0.94373197,  1.04736914, -1.44416206, -0.88640526],\n",
       "       [-0.6351352 ,  1.04736914,  1.38981187, -0.88640526],\n",
       "       [ 1.37433211,  1.04736914, -1.36651894,  1.12815215],\n",
       "       [-0.85043527,  1.04736914,  0.72984534,  1.12815215],\n",
       "       [ 1.4460988 ,  1.23821628, -1.4053405 ,  1.12815215],\n",
       "       [-0.27630176,  1.23821628,  1.54509812,  1.12815215],\n",
       "       [-0.13276838,  1.390894  , -0.7065524 , -0.88640526],\n",
       "       [-0.49160182,  1.390894  ,  1.38981187, -0.88640526],\n",
       "       [ 0.51313183,  1.42906343, -1.36651894,  1.12815215],\n",
       "       [-0.70690189,  1.42906343,  1.46745499, -0.88640526],\n",
       "       [ 0.15429838,  1.46723286, -0.43480148, -0.88640526],\n",
       "       [-0.6351352 ,  1.46723286,  1.81684904,  1.12815215],\n",
       "       [ 1.08726535,  1.54357172, -1.01712489, -0.88640526],\n",
       "       [-0.77866858,  1.54357172,  0.69102378,  1.12815215],\n",
       "       [ 0.15429838,  1.61991057, -1.28887582, -0.88640526],\n",
       "       [-0.20453507,  1.61991057,  1.35099031, -0.88640526],\n",
       "       [-0.34806844,  1.61991057, -1.05594645, -0.88640526],\n",
       "       [-0.49160182,  1.61991057,  0.72984534, -0.88640526],\n",
       "       [-0.41983513,  2.00160487, -1.63826986,  1.12815215],\n",
       "       [-0.06100169,  2.00160487,  1.58391968, -0.88640526],\n",
       "       [ 0.58489852,  2.26879087, -1.32769738, -0.88640526],\n",
       "       [-0.27630176,  2.26879087,  1.11806095, -0.88640526],\n",
       "       [ 0.44136514,  2.49780745, -0.86183865, -0.88640526],\n",
       "       [-0.49160182,  2.49780745,  0.92395314,  1.12815215],\n",
       "       [-0.49160182,  2.91767117, -1.25005425,  1.12815215],\n",
       "       [-0.6351352 ,  2.91767117,  1.27334719,  1.12815215]])"
      ]
     },
     "execution_count": 39,
     "metadata": {},
     "output_type": "execute_result"
    }
   ],
   "source": [
    "df = scale.fit_transform(df)\n",
    "df"
   ]
  },
  {
   "cell_type": "code",
   "execution_count": 40,
   "id": "92c76c47",
   "metadata": {},
   "outputs": [
    {
     "data": {
      "text/html": [
       "<div>\n",
       "<style scoped>\n",
       "    .dataframe tbody tr th:only-of-type {\n",
       "        vertical-align: middle;\n",
       "    }\n",
       "\n",
       "    .dataframe tbody tr th {\n",
       "        vertical-align: top;\n",
       "    }\n",
       "\n",
       "    .dataframe thead th {\n",
       "        text-align: right;\n",
       "    }\n",
       "</style>\n",
       "<table border=\"1\" class=\"dataframe\">\n",
       "  <thead>\n",
       "    <tr style=\"text-align: right;\">\n",
       "      <th></th>\n",
       "      <th>0</th>\n",
       "      <th>1</th>\n",
       "      <th>2</th>\n",
       "      <th>3</th>\n",
       "    </tr>\n",
       "  </thead>\n",
       "  <tbody>\n",
       "    <tr>\n",
       "      <th>0</th>\n",
       "      <td>-1.424569</td>\n",
       "      <td>-1.738999</td>\n",
       "      <td>-0.434801</td>\n",
       "      <td>1.128152</td>\n",
       "    </tr>\n",
       "    <tr>\n",
       "      <th>1</th>\n",
       "      <td>-1.281035</td>\n",
       "      <td>-1.738999</td>\n",
       "      <td>1.195704</td>\n",
       "      <td>1.128152</td>\n",
       "    </tr>\n",
       "    <tr>\n",
       "      <th>2</th>\n",
       "      <td>-1.352802</td>\n",
       "      <td>-1.700830</td>\n",
       "      <td>-1.715913</td>\n",
       "      <td>-0.886405</td>\n",
       "    </tr>\n",
       "    <tr>\n",
       "      <th>3</th>\n",
       "      <td>-1.137502</td>\n",
       "      <td>-1.700830</td>\n",
       "      <td>1.040418</td>\n",
       "      <td>-0.886405</td>\n",
       "    </tr>\n",
       "    <tr>\n",
       "      <th>4</th>\n",
       "      <td>-0.563369</td>\n",
       "      <td>-1.662660</td>\n",
       "      <td>-0.395980</td>\n",
       "      <td>-0.886405</td>\n",
       "    </tr>\n",
       "    <tr>\n",
       "      <th>...</th>\n",
       "      <td>...</td>\n",
       "      <td>...</td>\n",
       "      <td>...</td>\n",
       "      <td>...</td>\n",
       "    </tr>\n",
       "    <tr>\n",
       "      <th>195</th>\n",
       "      <td>-0.276302</td>\n",
       "      <td>2.268791</td>\n",
       "      <td>1.118061</td>\n",
       "      <td>-0.886405</td>\n",
       "    </tr>\n",
       "    <tr>\n",
       "      <th>196</th>\n",
       "      <td>0.441365</td>\n",
       "      <td>2.497807</td>\n",
       "      <td>-0.861839</td>\n",
       "      <td>-0.886405</td>\n",
       "    </tr>\n",
       "    <tr>\n",
       "      <th>197</th>\n",
       "      <td>-0.491602</td>\n",
       "      <td>2.497807</td>\n",
       "      <td>0.923953</td>\n",
       "      <td>1.128152</td>\n",
       "    </tr>\n",
       "    <tr>\n",
       "      <th>198</th>\n",
       "      <td>-0.491602</td>\n",
       "      <td>2.917671</td>\n",
       "      <td>-1.250054</td>\n",
       "      <td>1.128152</td>\n",
       "    </tr>\n",
       "    <tr>\n",
       "      <th>199</th>\n",
       "      <td>-0.635135</td>\n",
       "      <td>2.917671</td>\n",
       "      <td>1.273347</td>\n",
       "      <td>1.128152</td>\n",
       "    </tr>\n",
       "  </tbody>\n",
       "</table>\n",
       "<p>200 rows × 4 columns</p>\n",
       "</div>"
      ],
      "text/plain": [
       "            0         1         2         3\n",
       "0   -1.424569 -1.738999 -0.434801  1.128152\n",
       "1   -1.281035 -1.738999  1.195704  1.128152\n",
       "2   -1.352802 -1.700830 -1.715913 -0.886405\n",
       "3   -1.137502 -1.700830  1.040418 -0.886405\n",
       "4   -0.563369 -1.662660 -0.395980 -0.886405\n",
       "..        ...       ...       ...       ...\n",
       "195 -0.276302  2.268791  1.118061 -0.886405\n",
       "196  0.441365  2.497807 -0.861839 -0.886405\n",
       "197 -0.491602  2.497807  0.923953  1.128152\n",
       "198 -0.491602  2.917671 -1.250054  1.128152\n",
       "199 -0.635135  2.917671  1.273347  1.128152\n",
       "\n",
       "[200 rows x 4 columns]"
      ]
     },
     "execution_count": 40,
     "metadata": {},
     "output_type": "execute_result"
    }
   ],
   "source": [
    "df = pd.DataFrame(scale.fit_transform(df))\n",
    "df"
   ]
  },
  {
   "cell_type": "code",
   "execution_count": 41,
   "id": "60d5d5b0",
   "metadata": {},
   "outputs": [],
   "source": [
    "inertia_scores3 = []\n",
    "\n",
    "for i in range(1,11):\n",
    "    kmeans3 = KMeans(n_clusters = i)\n",
    "    kmeans3.fit(df)\n",
    "    inertia_scores3.append(kmeans3.inertia_)"
   ]
  },
  {
   "cell_type": "code",
   "execution_count": 42,
   "id": "f61b467b",
   "metadata": {},
   "outputs": [
    {
     "data": {
      "text/plain": [
       "[<matplotlib.lines.Line2D at 0x28ab2118fa0>]"
      ]
     },
     "execution_count": 42,
     "metadata": {},
     "output_type": "execute_result"
    },
    {
     "data": {
      "image/png": "[encoded data removed]",
      "text/plain": [
       "<Figure size 432x288 with 1 Axes>"
      ]
     },
     "metadata": {
      "needs_background": "light"
     },
     "output_type": "display_data"
    }
   ],
   "source": [
    "plt.plot(range(1,11), inertia_scores3)"
   ]
  },
  {
   "cell_type": "code",
   "execution_count": 43,
   "id": "78ac5889",
   "metadata": {},
   "outputs": [
    {
     "data": {
      "text/html": [
       "<div>\n",
       "<style scoped>\n",
       "    .dataframe tbody tr th:only-of-type {\n",
       "        vertical-align: middle;\n",
       "    }\n",
       "\n",
       "    .dataframe tbody tr th {\n",
       "        vertical-align: top;\n",
       "    }\n",
       "\n",
       "    .dataframe thead th {\n",
       "        text-align: right;\n",
       "    }\n",
       "</style>\n",
       "<table border=\"1\" class=\"dataframe\">\n",
       "  <thead>\n",
       "    <tr style=\"text-align: right;\">\n",
       "      <th></th>\n",
       "      <th>0</th>\n",
       "      <th>1</th>\n",
       "      <th>2</th>\n",
       "      <th>3</th>\n",
       "    </tr>\n",
       "  </thead>\n",
       "  <tbody>\n",
       "    <tr>\n",
       "      <th>0</th>\n",
       "      <td>-1.424569</td>\n",
       "      <td>-1.738999</td>\n",
       "      <td>-0.434801</td>\n",
       "      <td>1.128152</td>\n",
       "    </tr>\n",
       "    <tr>\n",
       "      <th>1</th>\n",
       "      <td>-1.281035</td>\n",
       "      <td>-1.738999</td>\n",
       "      <td>1.195704</td>\n",
       "      <td>1.128152</td>\n",
       "    </tr>\n",
       "    <tr>\n",
       "      <th>2</th>\n",
       "      <td>-1.352802</td>\n",
       "      <td>-1.700830</td>\n",
       "      <td>-1.715913</td>\n",
       "      <td>-0.886405</td>\n",
       "    </tr>\n",
       "    <tr>\n",
       "      <th>3</th>\n",
       "      <td>-1.137502</td>\n",
       "      <td>-1.700830</td>\n",
       "      <td>1.040418</td>\n",
       "      <td>-0.886405</td>\n",
       "    </tr>\n",
       "    <tr>\n",
       "      <th>4</th>\n",
       "      <td>-0.563369</td>\n",
       "      <td>-1.662660</td>\n",
       "      <td>-0.395980</td>\n",
       "      <td>-0.886405</td>\n",
       "    </tr>\n",
       "    <tr>\n",
       "      <th>...</th>\n",
       "      <td>...</td>\n",
       "      <td>...</td>\n",
       "      <td>...</td>\n",
       "      <td>...</td>\n",
       "    </tr>\n",
       "    <tr>\n",
       "      <th>195</th>\n",
       "      <td>-0.276302</td>\n",
       "      <td>2.268791</td>\n",
       "      <td>1.118061</td>\n",
       "      <td>-0.886405</td>\n",
       "    </tr>\n",
       "    <tr>\n",
       "      <th>196</th>\n",
       "      <td>0.441365</td>\n",
       "      <td>2.497807</td>\n",
       "      <td>-0.861839</td>\n",
       "      <td>-0.886405</td>\n",
       "    </tr>\n",
       "    <tr>\n",
       "      <th>197</th>\n",
       "      <td>-0.491602</td>\n",
       "      <td>2.497807</td>\n",
       "      <td>0.923953</td>\n",
       "      <td>1.128152</td>\n",
       "    </tr>\n",
       "    <tr>\n",
       "      <th>198</th>\n",
       "      <td>-0.491602</td>\n",
       "      <td>2.917671</td>\n",
       "      <td>-1.250054</td>\n",
       "      <td>1.128152</td>\n",
       "    </tr>\n",
       "    <tr>\n",
       "      <th>199</th>\n",
       "      <td>-0.635135</td>\n",
       "      <td>2.917671</td>\n",
       "      <td>1.273347</td>\n",
       "      <td>1.128152</td>\n",
       "    </tr>\n",
       "  </tbody>\n",
       "</table>\n",
       "<p>200 rows × 4 columns</p>\n",
       "</div>"
      ],
      "text/plain": [
       "            0         1         2         3\n",
       "0   -1.424569 -1.738999 -0.434801  1.128152\n",
       "1   -1.281035 -1.738999  1.195704  1.128152\n",
       "2   -1.352802 -1.700830 -1.715913 -0.886405\n",
       "3   -1.137502 -1.700830  1.040418 -0.886405\n",
       "4   -0.563369 -1.662660 -0.395980 -0.886405\n",
       "..        ...       ...       ...       ...\n",
       "195 -0.276302  2.268791  1.118061 -0.886405\n",
       "196  0.441365  2.497807 -0.861839 -0.886405\n",
       "197 -0.491602  2.497807  0.923953  1.128152\n",
       "198 -0.491602  2.917671 -1.250054  1.128152\n",
       "199 -0.635135  2.917671  1.273347  1.128152\n",
       "\n",
       "[200 rows x 4 columns]"
      ]
     },
     "execution_count": 43,
     "metadata": {},
     "output_type": "execute_result"
    }
   ],
   "source": [
    "df"
   ]
  },
  {
   "cell_type": "code",
   "execution_count": 44,
   "id": "2500ea94",
   "metadata": {},
   "outputs": [],
   "source": [
    "df.to_csv('Clustering.csv')"
   ]
  },
  {
   "cell_type": "markdown",
   "id": "512611ce",
   "metadata": {},
   "source": [
    "# Analysis\n",
    "\n",
    "Target cluster\n",
    "* Target group would be cluster 1 which has a higher Spending score & high income\n",
    "* 54% of cluster 1 shoppers are women. We should look for ways to attract these customers using a marketing campaign targeting popular items in this cluster\n",
    "* Cluster 2 presents an interesting opportunity to market to the customers for sales event on popular items."
   ]
  },
  {
   "cell_type": "code",
   "execution_count": null,
   "id": "d5dd6c0a",
   "metadata": {},
   "outputs": [],
   "source": []
  }
 ],
 "metadata": {
  "kernelspec": {
   "display_name": "Python 3 (ipykernel)",
   "language": "python",
   "name": "python3"
  },
  "language_info": {
   "codemirror_mode": {
    "name": "ipython",
    "version": 3
   },
   "file_extension": ".py",
   "mimetype": "text/x-python",
   "name": "python",
   "nbconvert_exporter": "python",
   "pygments_lexer": "ipython3",
   "version": "3.9.12"
  }
 },
 "nbformat": 4,
 "nbformat_minor": 5
}
